{
 "cells": [
  {
   "cell_type": "code",
   "execution_count": null,
   "metadata": {
    "collapsed": true
   },
   "outputs": [],
   "source": [
    "import numpy as np\n",
    "import random\n",
    "import os\n",
    "import matplotlib.pyplot as plt\n",
    "import matplotlib.pyplot as mpimg\n",
    "import importlib\n",
    "\n",
    "from utils import load_imagenat\n",
    "importlib.reload(load_imagenat)\n",
    "\n",
    "%matplotlib inline"
   ]
  },
  {
   "cell_type": "code",
   "execution_count": null,
   "metadata": {
    "collapsed": true
   },
   "outputs": [],
   "source": [
    "### loading imagenat data ###\n",
    "data_train, data_test, label_train, label_test = load_imagenat.load_data('imagenat')"
   ]
  },
  {
   "cell_type": "code",
   "execution_count": null,
   "metadata": {
    "collapsed": true,
    "scrolled": true
   },
   "outputs": [],
   "source": [
    "### set parts of data to unlabeled data. label 0 means corresponding sample is not assigned any label ###\n",
    "np.random.seed(10)\n",
    "label = np.copy(label_train)\n",
    "\n",
    "from utils import get_unlabeled\n",
    "importlib.reload(get_unlabeled)\n",
    "unlabeled_ind = get_unlabeled.get_unlabeled(data_train, label_train)\n",
    "label[unlabeled_ind==1] = 0\n",
    "print('Unique labels : %s \\nNumber of samples : %s\\nData dimension : %s'%(np.unique(label), data_train.shape[0], data_train.shape[1]))"
   ]
  },
  {
   "cell_type": "code",
   "execution_count": null,
   "metadata": {
    "collapsed": true
   },
   "outputs": [],
   "source": [
    "### Please note below image is not relevant to this hands-on ###\n",
    "img=mpimg.imread('./test_images/ILSVRC2012_val_00046368.JPEG')\n",
    "plt.imshow(img)"
   ]
  },
  {
   "cell_type": "code",
   "execution_count": null,
   "metadata": {
    "collapsed": true
   },
   "outputs": [],
   "source": [
    "### plot data ###\n",
    "def plot_data(data1, data2=None, model=None):\n",
    "    def plot(ax, data, mode, model):\n",
    "        X, y = data\n",
    "        x_min, x_max = X[:, 0].min() - .5, X[:, 0].max() + .5\n",
    "        y_min, y_max = X[:, 1].min() - .5, X[:, 1].max() + .5\n",
    "        unique = np.sort(np.unique(y))\n",
    "        cnt = 0\n",
    "        for u in unique:\n",
    "            if u == 0:\n",
    "                label = \"Unlabeled\"\n",
    "                color = \"w\"\n",
    "            else:\n",
    "                label = \"Class : %s\"%u\n",
    "                color = [\"g\", \"m\"][cnt]\n",
    "                cnt += 1\n",
    "            ax.scatter(X[y==u][:, 0], X[y==u][:, 1], label=label, color=color , edgecolor='0.5')\n",
    "        if model is not None:\n",
    "            w = model.coef_\n",
    "            b = model.intercept_\n",
    "            x_axis = np.arange(x_min, x_max, 0.1)\n",
    "            y_axis = (-b[0] - w[0, 0]*x_axis) /w[0, 1]\n",
    "            ax.plot(x_axis, y_axis, color=\"b\")\n",
    "        ax.set_xlim(x_min, x_max)\n",
    "        ax.set_ylim(y_min, y_max)\n",
    "        ax.set_title(mode)\n",
    "        ax.legend(loc='upper left')\n",
    "    f, (ax1, ax2) = plt.subplots(1, 2, sharey=True, figsize=(13,5))\n",
    "    for ax, data, mode in zip([ax1, ax2], [data1, data2], ['train', 'test']):\n",
    "        plot(ax, data, mode, model)\n",
    "\n",
    "plot_data([data_train, label], [data_test, label_test])"
   ]
  },
  {
   "cell_type": "code",
   "execution_count": null,
   "metadata": {
    "collapsed": true
   },
   "outputs": [],
   "source": [
    "### load a Deep Neural Network model and train its parameters with only labeled data###\n",
    "from utils.models import VeryDeepNeuralNetwork \n",
    "model1 = VeryDeepNeuralNetwork()\n",
    "model1.fit(data_train[unlabeled_ind!=1], label_train[unlabeled_ind!=1])"
   ]
  },
  {
   "cell_type": "code",
   "execution_count": null,
   "metadata": {
    "collapsed": true,
    "scrolled": false
   },
   "outputs": [],
   "source": [
    "### visualize learned parameters ###\n",
    "from sklearn.metrics import accuracy_score\n",
    "acc1 = accuracy_score(label_test, model1.predict(data_test))\n",
    "plot_data([data_train, label], [data_test, label_test], model1)\n",
    "print(\"ACC : %f\"%acc1)"
   ]
  },
  {
   "cell_type": "code",
   "execution_count": null,
   "metadata": {
    "collapsed": true,
    "scrolled": true
   },
   "outputs": [],
   "source": [
    "\"\"\" TODO \n",
    "Implement you semi-supervised method below.\n",
    "You can use below functions:\n",
    "\n",
    "- model.fit(X, y, sample_weight) : train a classifier \n",
    "\n",
    "- model.predict_proba(X) \n",
    "   output :  N x C matrix whose ij-th element indicates the probability p(c_j | x_i) \n",
    "   \n",
    "-model.predict(X)  \n",
    "   output : N vector whose i-th element indicates the predicted class.\n",
    "\n",
    "For more information, refer http://scikit-learn.org/stable/modules/generated/sklearn.linear_model.LogisticRegression.html\n",
    "\"\"\"\n",
    "\n",
    "alpha = 1.0\n",
    "model2 = VeryDeepNeuralNetwork()\n",
    "sample_weight = np.ones(data_train.shape[0])\n",
    "sample_weight[unlabeled_ind_copy==1] = alpha\n",
    "\n",
    "for i in range(10):\n",
    "    unlabeled_ind_copy = unlabeled_ind[:]\n",
    "    if i > 0:\n",
    "        pseudo_label = model2.predict(data_train)\n",
    "        prob = model2.predict_proba(data_train)\n",
    "        prob = np.max(prob, axis=1)\n",
    "        pseudo_label[unlabeled_ind_copy!=1] = label_train[unlabeled_ind_copy!=1]\n",
    "        unlabeled_ind_copy[prob > 0.90] = 0\n",
    "    else:\n",
    "        pseudo_label = label[:]\n",
    "\n",
    "    model2.fit(data_train[unlabeled_ind_copy!=1], pseudo_label[unlabeled_ind_copy!=1], sample_weight[unlabeled_ind_copy!=1])\n",
    "\n",
    "acc2 = accuracy_score(label_test, model2.predict(data_test))\n",
    "print(\"Without unlabeled data (above)\\n ACC : %f \\n\"%acc1)\n",
    "print(\"With unlabeled data (below) \\n ACC : %f\"%acc2)\n",
    "plot_data([data_train, label], [data_test, label_test], model1)\n",
    "plot_data([data_train, label], [data_test, label_test], model2)"
   ]
  }
 ],
 "metadata": {
  "kernelspec": {
   "display_name": "Python 3",
   "language": "python",
   "name": "python3"
  },
  "language_info": {
   "codemirror_mode": {
    "name": "ipython",
    "version": 3
   },
   "file_extension": ".py",
   "mimetype": "text/x-python",
   "name": "python",
   "nbconvert_exporter": "python",
   "pygments_lexer": "ipython3",
   "version": "3.6.2"
  }
 },
 "nbformat": 4,
 "nbformat_minor": 2
}
